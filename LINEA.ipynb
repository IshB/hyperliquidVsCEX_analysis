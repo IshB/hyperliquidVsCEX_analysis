{
 "cells": [
  {
   "cell_type": "code",
   "execution_count": 5,
   "id": "745082c3",
   "metadata": {},
   "outputs": [
    {
     "name": "stdout",
     "output_type": "stream",
     "text": [
      "🚀 LINEA Analysis Setup Complete\n",
      "📊 Exchanges configured: ['binance', 'bybit']\n",
      "✅ Ready for LINEA SPOT vs PERP analysis\n"
     ]
    }
   ],
   "source": [
    "# LINEA Analysis Setup - Required Imports and Configuration\n",
    "import ccxt\n",
    "import pandas as pd\n",
    "import plotly.graph_objects as go\n",
    "from plotly.subplots import make_subplots\n",
    "from datetime import datetime\n",
    "import warnings\n",
    "warnings.filterwarnings('ignore')\n",
    "\n",
    "# Define exchanges for LINEA analysis\n",
    "exchanges_list = ['binance', 'bybit']\n",
    "\n",
    "print(\"🚀 LINEA Analysis Setup Complete\")\n",
    "print(f\"📊 Exchanges configured: {exchanges_list}\")\n",
    "print(\"✅ Ready for LINEA SPOT vs PERP analysis\")"
   ]
  },
  {
   "cell_type": "markdown",
   "id": "09a96f33",
   "metadata": {},
   "source": [
    "# 🎯 LINEA Analysis - Streamlined Version\n",
    "\n",
    "## Overview\n",
    "This notebook provides a simplified analysis of LINEA (SPOT vs PERPETUAL) across multiple exchanges:\n",
    "- **Binance** (SPOT: `LINEA/USDT`, PERP: `LINEA/USDT:USDT`)\n",
    "- **Bybit** (SPOT: `LINEA/USDT`, PERP: `LINEA/USDT:USDT`)\n",
    "- **OKX** (SPOT: `LINEA/USDT`, PERP: `LINEA-USDT-SWAP`)\n",
    "\n",
    "## Features\n",
    "✅ **Date Range Filtering** - Specify start and end times  \n",
    "✅ **Price Comparison** - SPOT vs PERP across exchanges  \n",
    "✅ **Dollar Volume Analysis** - Volume multiplied by price  \n",
    "✅ **Clean Visualization** - Interactive charts with Plotly  \n",
    "\n",
    "## Usage\n",
    "1. Run cells 1-3 to set up\n",
    "2. Modify date parameters in cell 4 as needed\n",
    "3. Run cell 4 to execute analysis and generate visualization"
   ]
  },
  {
   "cell_type": "code",
   "execution_count": 6,
   "id": "65662e30",
   "metadata": {},
   "outputs": [
    {
     "name": "stdout",
     "output_type": "stream",
     "text": [
      "✓ binance initialized successfully\n",
      "✓ bybit initialized successfully\n",
      "\n",
      "Successfully initialized 2 exchanges\n"
     ]
    }
   ],
   "source": [
    "def initialize_exchanges(exchange_names):\n",
    "    \"\"\"\n",
    "    Initialize exchange objects from the given list of exchange names\n",
    "    \"\"\"\n",
    "    exchanges = {}\n",
    "    \n",
    "    for exchange_name in exchange_names:\n",
    "        try:\n",
    "            if exchange_name.lower() == 'binance':\n",
    "                exchange = ccxt.binance({\n",
    "                    'rateLimit': 1200,\n",
    "                    'enableRateLimit': True,\n",
    "                })\n",
    "            elif exchange_name.lower() == 'bybit':\n",
    "                exchange = ccxt.bybit({\n",
    "                    'rateLimit': 1200,\n",
    "                    'enableRateLimit': True,\n",
    "                })\n",
    "            elif exchange_name.lower() == 'okx':\n",
    "                exchange = ccxt.okx({\n",
    "                    'rateLimit': 1200,\n",
    "                    'enableRateLimit': True,\n",
    "                })\n",
    "            else:\n",
    "                print(f\"Exchange {exchange_name} not supported\")\n",
    "                continue\n",
    "                \n",
    "            exchanges[exchange_name] = exchange\n",
    "            print(f\"✓ {exchange_name} initialized successfully\")\n",
    "            \n",
    "        except Exception as e:\n",
    "            print(f\"✗ Failed to initialize {exchange_name}: {str(e)}\")\n",
    "            \n",
    "    return exchanges\n",
    "\n",
    "# Initialize exchanges\n",
    "exchanges = initialize_exchanges(exchanges_list)\n",
    "print(f\"\\nSuccessfully initialized {len(exchanges)} exchanges\")"
   ]
  },
  {
   "cell_type": "code",
   "execution_count": 7,
   "id": "1e7c0a64",
   "metadata": {},
   "outputs": [
    {
     "name": "stdout",
     "output_type": "stream",
     "text": [
      "✅ Simple LINEA functions with date parameters loaded!\n",
      "📝 Use start_time='2025-09-04 10:00:00' and end_time='2025-09-04 12:00:00' format\n"
     ]
    }
   ],
   "source": [
    "# Simple LINEA Functions with Date Parameters\n",
    "\n",
    "def get_LINEA_perp_ticker(exchange_name):\n",
    "    \"\"\"Get the correct LINEA perpetual ticker format for each exchange\"\"\"\n",
    "    perp_formats = {\n",
    "        'binance': 'LINEA/USDT:USDT',\n",
    "        'bybit': 'LINEA/USDT:USDT', \n",
    "        'okx': 'LINEA-USDT-SWAP'\n",
    "    }\n",
    "    return perp_formats.get(exchange_name.lower(), 'LINEA/USDT')\n",
    "\n",
    "def fetch_LINEA_data(ticker, exchanges_list, timeframe='1h', limit=100, \n",
    "                   start_time=None, end_time=None):\n",
    "    \"\"\"\n",
    "    Fetch LINEA data for a given ticker across exchanges with date filtering\n",
    "    \n",
    "    Parameters:\n",
    "    - ticker: ticker symbol (e.g., 'LINEA/USDT' or specific perp format)\n",
    "    - exchanges_list: list of exchange names\n",
    "    - timeframe: timeframe for data ('1h', '4h', '1d', etc.)\n",
    "    - limit: number of candles to fetch\n",
    "    - start_time: start time in 'YYYY-MM-DD HH:MM:SS' format\n",
    "    - end_time: end time in 'YYYY-MM-DD HH:MM:SS' format\n",
    "    \"\"\"\n",
    "    data = {}\n",
    "    \n",
    "    for exchange_name in exchanges_list:\n",
    "        try:\n",
    "            exchange = exchanges[exchange_name]\n",
    "            \n",
    "            # Convert time parameters if provided\n",
    "            since = None\n",
    "            if start_time:\n",
    "                since = int(datetime.strptime(start_time, '%Y-%m-%d %H:%M:%S').timestamp() * 1000)\n",
    "            \n",
    "            print(f\"📈 Fetching {ticker} from {exchange_name}...\")\n",
    "            ohlcv = exchange.fetch_ohlcv(ticker, timeframe, since=since, limit=limit)\n",
    "            \n",
    "            if ohlcv:\n",
    "                df = pd.DataFrame(ohlcv, columns=['timestamp', 'open', 'high', 'low', 'close', 'volume'])\n",
    "                df['datetime'] = pd.to_datetime(df['timestamp'], unit='ms')\n",
    "                df.set_index('datetime', inplace=True)\n",
    "                \n",
    "                # Filter by end time if provided\n",
    "                if end_time:\n",
    "                    end_dt = datetime.strptime(end_time, '%Y-%m-%d %H:%M:%S')\n",
    "                    df = df[df.index <= end_dt]\n",
    "                \n",
    "                # Calculate dollar volume\n",
    "                df['dollar_volume'] = df['volume'] * df['close']\n",
    "                \n",
    "                data[exchange_name] = df\n",
    "                print(f\"  ✅ {exchange_name}: {len(df)} candles, Latest: ${df['close'].iloc[-1]:,.4f}\")\n",
    "            else:\n",
    "                print(f\"  ❌ {exchange_name}: No data\")\n",
    "                \n",
    "        except Exception as e:\n",
    "            print(f\"  ❌ {exchange_name}: Error - {str(e)}\")\n",
    "    \n",
    "    return data\n",
    "\n",
    "def plot_LINEA_simple(spot_data, perp_data, ticker_name=\"LINEA\"):\n",
    "    \"\"\"Simple plot showing price and dollar volume for spot and perp\"\"\"\n",
    "    \n",
    "    fig = make_subplots(\n",
    "        rows=2, cols=1,\n",
    "        subplot_titles=(f'{ticker_name}: Price Comparison (SPOT vs PERP)', \n",
    "                       f'{ticker_name}: Dollar Volume Comparison (SPOT vs PERP)'),\n",
    "        vertical_spacing=0.12\n",
    "    )\n",
    "    \n",
    "    # Colors: Green for SPOT, Orange for PERP\n",
    "    spot_colors = ['#2E8B57', '#32CD32', '#90EE90']  \n",
    "    perp_colors = ['#FF6347', '#FF4500', '#FFB347']  \n",
    "    \n",
    "    # Plot SPOT data\n",
    "    for i, (exchange, df) in enumerate(spot_data.items()):\n",
    "        color = spot_colors[i % len(spot_colors)]\n",
    "        \n",
    "        # Price\n",
    "        fig.add_trace(\n",
    "            go.Scatter(\n",
    "                x=df.index, y=df['close'],\n",
    "                mode='lines+markers',\n",
    "                name=f'SPOT {exchange.upper()}',\n",
    "                line=dict(color=color, width=2.5),\n",
    "                marker=dict(size=3)\n",
    "            ), row=1, col=1\n",
    "        )\n",
    "        \n",
    "        # Dollar Volume\n",
    "        fig.add_trace(\n",
    "            go.Scatter(\n",
    "                x=df.index, y=df['dollar_volume'],\n",
    "                mode='lines',\n",
    "                name=f'SPOT ${exchange.upper()}',\n",
    "                line=dict(color=color, dash='dot', width=2),\n",
    "                showlegend=False\n",
    "            ), row=2, col=1\n",
    "        )\n",
    "    \n",
    "    # Plot PERP data\n",
    "    for i, (exchange, df) in enumerate(perp_data.items()):\n",
    "        color = perp_colors[i % len(perp_colors)]\n",
    "        \n",
    "        # Price\n",
    "        fig.add_trace(\n",
    "            go.Scatter(\n",
    "                x=df.index, y=df['close'],\n",
    "                mode='lines+markers',\n",
    "                name=f'PERP {exchange.upper()}',\n",
    "                line=dict(color=color, width=2.5, dash='dash'),\n",
    "                marker=dict(size=3)\n",
    "            ), row=1, col=1\n",
    "        )\n",
    "        \n",
    "        # Dollar Volume\n",
    "        fig.add_trace(\n",
    "            go.Scatter(\n",
    "                x=df.index, y=df['dollar_volume'],\n",
    "                mode='lines',\n",
    "                name=f'PERP ${exchange.upper()}',\n",
    "                line=dict(color=color, dash='dashdot', width=2),\n",
    "                showlegend=False\n",
    "            ), row=2, col=1\n",
    "        )\n",
    "    \n",
    "    fig.update_layout(\n",
    "        title=f'{ticker_name} SPOT vs PERP Analysis',\n",
    "        height=700,\n",
    "        showlegend=True,\n",
    "        hovermode='x unified'\n",
    "    )\n",
    "    \n",
    "    fig.update_yaxes(title_text=\"Price (USD)\", row=1, col=1)\n",
    "    fig.update_yaxes(title_text=\"Dollar Volume (USD)\", row=2, col=1)\n",
    "    fig.update_xaxes(title_text=\"Time\", row=2, col=1)\n",
    "    \n",
    "    fig.show()\n",
    "    \n",
    "    # Print summary\n",
    "    print(f\"\\n📊 {ticker_name} Summary:\")\n",
    "    if spot_data:\n",
    "        print(\"SPOT:\")\n",
    "        for exchange, df in spot_data.items():\n",
    "            print(f\"  {exchange}: ${df['close'].iloc[-1]:,.4f}\")\n",
    "    if perp_data:\n",
    "        print(\"PERP:\")\n",
    "        for exchange, df in perp_data.items():\n",
    "            print(f\"  {exchange}: ${df['close'].iloc[-1]:,.4f}\")\n",
    "\n",
    "print(\"✅ Simple LINEA functions with date parameters loaded!\")\n",
    "print(\"📝 Use start_time='2025-09-04 10:00:00' and end_time='2025-09-04 12:00:00' format\")"
   ]
  },
  {
   "cell_type": "code",
   "execution_count": 8,
   "id": "f105f992",
   "metadata": {},
   "outputs": [
    {
     "name": "stdout",
     "output_type": "stream",
     "text": [
      "🎯 Complete LINEA Historical Analysis\n",
      "📊 Timeframe: 1h, Limit: 1000\n",
      "🏪 Exchanges: ['binance', 'bybit']\n",
      "📅 Full Timeline: 2025-08-22 00:00:00 to 2025-09-05 23:59:59\n",
      "⏰ Analysis Period: ~14 days\n",
      "======================================================================\n",
      "\n",
      "💰 Fetching COMPLETE SPOT data timeline...\n",
      "📈 Fetching LINEA/USDT from binance...\n",
      "  ❌ binance: Error - binance does not have market symbol LINEA/USDT\n",
      "📈 Fetching LINEA/USDT from bybit...\n",
      "  ❌ bybit: Error - bybit does not have market symbol LINEA/USDT\n",
      "\n",
      "🔄 Fetching COMPLETE PERP data timeline...\n",
      "📈 Fetching LINEA/USDT:USDT from binance...\n",
      "  ✅ binance: 98 candles, Latest: $0.0273\n",
      "📈 Fetching LINEA/USDT:USDT from bybit...\n",
      "  ✅ bybit: 96 candles, Latest: $0.0275\n",
      "\n",
      "📈 Creating complete LINEA historical visualization...\n"
     ]
    },
    {
     "data": {
      "application/vnd.plotly.v1+json": {
       "config": {
        "plotlyServerURL": "https://plot.ly"
       },
       "data": [
        {
         "line": {
          "color": "#FF6347",
          "dash": "dash",
          "width": 2.5
         },
         "marker": {
          "size": 3
         },
         "mode": "lines+markers",
         "name": "PERP BINANCE",
         "type": "scatter",
         "x": [
          "2025-09-01T08:00:00.000000000",
          "2025-09-01T09:00:00.000000000",
          "2025-09-01T10:00:00.000000000",
          "2025-09-01T11:00:00.000000000",
          "2025-09-01T12:00:00.000000000",
          "2025-09-01T13:00:00.000000000",
          "2025-09-01T14:00:00.000000000",
          "2025-09-01T15:00:00.000000000",
          "2025-09-01T16:00:00.000000000",
          "2025-09-01T17:00:00.000000000",
          "2025-09-01T18:00:00.000000000",
          "2025-09-01T19:00:00.000000000",
          "2025-09-01T20:00:00.000000000",
          "2025-09-01T21:00:00.000000000",
          "2025-09-01T22:00:00.000000000",
          "2025-09-01T23:00:00.000000000",
          "2025-09-02T00:00:00.000000000",
          "2025-09-02T01:00:00.000000000",
          "2025-09-02T02:00:00.000000000",
          "2025-09-02T03:00:00.000000000",
          "2025-09-02T04:00:00.000000000",
          "2025-09-02T05:00:00.000000000",
          "2025-09-02T06:00:00.000000000",
          "2025-09-02T07:00:00.000000000",
          "2025-09-02T08:00:00.000000000",
          "2025-09-02T09:00:00.000000000",
          "2025-09-02T10:00:00.000000000",
          "2025-09-02T11:00:00.000000000",
          "2025-09-02T12:00:00.000000000",
          "2025-09-02T13:00:00.000000000",
          "2025-09-02T14:00:00.000000000",
          "2025-09-02T15:00:00.000000000",
          "2025-09-02T16:00:00.000000000",
          "2025-09-02T17:00:00.000000000",
          "2025-09-02T18:00:00.000000000",
          "2025-09-02T19:00:00.000000000",
          "2025-09-02T20:00:00.000000000",
          "2025-09-02T21:00:00.000000000",
          "2025-09-02T22:00:00.000000000",
          "2025-09-02T23:00:00.000000000",
          "2025-09-03T00:00:00.000000000",
          "2025-09-03T01:00:00.000000000",
          "2025-09-03T02:00:00.000000000",
          "2025-09-03T03:00:00.000000000",
          "2025-09-03T04:00:00.000000000",
          "2025-09-03T05:00:00.000000000",
          "2025-09-03T06:00:00.000000000",
          "2025-09-03T07:00:00.000000000",
          "2025-09-03T08:00:00.000000000",
          "2025-09-03T09:00:00.000000000",
          "2025-09-03T10:00:00.000000000",
          "2025-09-03T11:00:00.000000000",
          "2025-09-03T12:00:00.000000000",
          "2025-09-03T13:00:00.000000000",
          "2025-09-03T14:00:00.000000000",
          "2025-09-03T15:00:00.000000000",
          "2025-09-03T16:00:00.000000000",
          "2025-09-03T17:00:00.000000000",
          "2025-09-03T18:00:00.000000000",
          "2025-09-03T19:00:00.000000000",
          "2025-09-03T20:00:00.000000000",
          "2025-09-03T21:00:00.000000000",
          "2025-09-03T22:00:00.000000000",
          "2025-09-03T23:00:00.000000000",
          "2025-09-04T00:00:00.000000000",
          "2025-09-04T01:00:00.000000000",
          "2025-09-04T02:00:00.000000000",
          "2025-09-04T03:00:00.000000000",
          "2025-09-04T04:00:00.000000000",
          "2025-09-04T05:00:00.000000000",
          "2025-09-04T06:00:00.000000000",
          "2025-09-04T07:00:00.000000000",
          "2025-09-04T08:00:00.000000000",
          "2025-09-04T09:00:00.000000000",
          "2025-09-04T10:00:00.000000000",
          "2025-09-04T11:00:00.000000000",
          "2025-09-04T12:00:00.000000000",
          "2025-09-04T13:00:00.000000000",
          "2025-09-04T14:00:00.000000000",
          "2025-09-04T15:00:00.000000000",
          "2025-09-04T16:00:00.000000000",
          "2025-09-04T17:00:00.000000000",
          "2025-09-04T18:00:00.000000000",
          "2025-09-04T19:00:00.000000000",
          "2025-09-04T20:00:00.000000000",
          "2025-09-04T21:00:00.000000000",
          "2025-09-04T22:00:00.000000000",
          "2025-09-04T23:00:00.000000000",
          "2025-09-05T00:00:00.000000000",
          "2025-09-05T01:00:00.000000000",
          "2025-09-05T02:00:00.000000000",
          "2025-09-05T03:00:00.000000000",
          "2025-09-05T04:00:00.000000000",
          "2025-09-05T05:00:00.000000000",
          "2025-09-05T06:00:00.000000000",
          "2025-09-05T07:00:00.000000000",
          "2025-09-05T08:00:00.000000000",
          "2025-09-05T09:00:00.000000000"
         ],
         "xaxis": "x",
         "y": {
          "bdata": "1SZO7ncoqj9jKCfaVUipP2PuWkI+6Kk/hPBo44i1qD+e76fGSzepP+Un1T4dj6k/hbacS3FVqT+VfVcE/1upP2+BBMWPMac/8RExJZLopT9R9wFIbeKkPxfZzvdT46U/c2iR7Xw/pT/kvWplwi+lP+BnXDgQkqU/UdobfGEypT9zS6shcY+lP64SLA5nfqU/J/c7FAX6pD9ATS1b64ukP+jZrPpcbaU/EvdY+tAFpT8KhQg4hCqlP4MvTKYKRqU/UTHO34RCpD+xv+yePCykP1nABG7dzaM/jBU1mIbhoz/4wmSqYFSiPwmKH2PuWqI/OzYC8bp+oT8i4BCq1OyhPwVu3c1THaI/5/up8dJNoj8R34lZL4aiP4vgfyvZsaE/h6dXyjLEoT/fpj/7kSKiP5MYBFYOLaI/CcTr+gW7oT+9NbBVgsWhP4eKcf4mFKI/rVEP0egOoj/O/GoOEMyhPyL99nXgnKE/GqiMf59xoT8NN+DzwwihPz+MEB5tHKE/tKuQ8pNqnz+KH2PuWkKePwQ5KGGm7Z8/KgDGM2jonz8hAg6hSs2ePy6thsQ9lp4/eQH20akrnz9LPKBsyhWeP58CYDyDhp4/ITzaOGItnj86HjNQGf+eP7xXrUz4pZ4/tKuQ8pNqnz/Jjo1AvK6fPzYf14aKcZ4/9wFIbeLknj82H9eGinGeP346HjNQGZ8/RwN4CyQonj9Pr5RliGOdPzoGZK93f5w/MUJ4tHHEmj/q7GRwlLyaP+HurN12oZk/AwmKH2Pumj/60AX1LXOaP0penWNA9po/u+1Cc51Gmj+FQgQcQpWaP8Ama9RDNJo/uycPC7WmmT9wmdNlMbGZP/aX3ZOHhZo/krOwpx3+mj9sJt9sc2OaPzV7oBUYspo/yF7v/nivmj8+7fDXZI2aP4EJ3Lqbp5o/dF5jl6jemj/htOBFX0GaP1tCPujZrJo/Pu3w12SNmj/lszwP7s6aP9kIxOv6BZs/Ns07TtGRnD/usfShC+qbP0/pYP2fw5w/B84ZUdobnD8QQGoTJ/ebPw==",
          "dtype": "f8"
         },
         "yaxis": "y"
        },
        {
         "line": {
          "color": "#FF6347",
          "dash": "dashdot",
          "width": 2
         },
         "mode": "lines",
         "name": "PERP $BINANCE",
         "showlegend": false,
         "type": "scatter",
         "x": [
          "2025-09-01T08:00:00.000000000",
          "2025-09-01T09:00:00.000000000",
          "2025-09-01T10:00:00.000000000",
          "2025-09-01T11:00:00.000000000",
          "2025-09-01T12:00:00.000000000",
          "2025-09-01T13:00:00.000000000",
          "2025-09-01T14:00:00.000000000",
          "2025-09-01T15:00:00.000000000",
          "2025-09-01T16:00:00.000000000",
          "2025-09-01T17:00:00.000000000",
          "2025-09-01T18:00:00.000000000",
          "2025-09-01T19:00:00.000000000",
          "2025-09-01T20:00:00.000000000",
          "2025-09-01T21:00:00.000000000",
          "2025-09-01T22:00:00.000000000",
          "2025-09-01T23:00:00.000000000",
          "2025-09-02T00:00:00.000000000",
          "2025-09-02T01:00:00.000000000",
          "2025-09-02T02:00:00.000000000",
          "2025-09-02T03:00:00.000000000",
          "2025-09-02T04:00:00.000000000",
          "2025-09-02T05:00:00.000000000",
          "2025-09-02T06:00:00.000000000",
          "2025-09-02T07:00:00.000000000",
          "2025-09-02T08:00:00.000000000",
          "2025-09-02T09:00:00.000000000",
          "2025-09-02T10:00:00.000000000",
          "2025-09-02T11:00:00.000000000",
          "2025-09-02T12:00:00.000000000",
          "2025-09-02T13:00:00.000000000",
          "2025-09-02T14:00:00.000000000",
          "2025-09-02T15:00:00.000000000",
          "2025-09-02T16:00:00.000000000",
          "2025-09-02T17:00:00.000000000",
          "2025-09-02T18:00:00.000000000",
          "2025-09-02T19:00:00.000000000",
          "2025-09-02T20:00:00.000000000",
          "2025-09-02T21:00:00.000000000",
          "2025-09-02T22:00:00.000000000",
          "2025-09-02T23:00:00.000000000",
          "2025-09-03T00:00:00.000000000",
          "2025-09-03T01:00:00.000000000",
          "2025-09-03T02:00:00.000000000",
          "2025-09-03T03:00:00.000000000",
          "2025-09-03T04:00:00.000000000",
          "2025-09-03T05:00:00.000000000",
          "2025-09-03T06:00:00.000000000",
          "2025-09-03T07:00:00.000000000",
          "2025-09-03T08:00:00.000000000",
          "2025-09-03T09:00:00.000000000",
          "2025-09-03T10:00:00.000000000",
          "2025-09-03T11:00:00.000000000",
          "2025-09-03T12:00:00.000000000",
          "2025-09-03T13:00:00.000000000",
          "2025-09-03T14:00:00.000000000",
          "2025-09-03T15:00:00.000000000",
          "2025-09-03T16:00:00.000000000",
          "2025-09-03T17:00:00.000000000",
          "2025-09-03T18:00:00.000000000",
          "2025-09-03T19:00:00.000000000",
          "2025-09-03T20:00:00.000000000",
          "2025-09-03T21:00:00.000000000",
          "2025-09-03T22:00:00.000000000",
          "2025-09-03T23:00:00.000000000",
          "2025-09-04T00:00:00.000000000",
          "2025-09-04T01:00:00.000000000",
          "2025-09-04T02:00:00.000000000",
          "2025-09-04T03:00:00.000000000",
          "2025-09-04T04:00:00.000000000",
          "2025-09-04T05:00:00.000000000",
          "2025-09-04T06:00:00.000000000",
          "2025-09-04T07:00:00.000000000",
          "2025-09-04T08:00:00.000000000",
          "2025-09-04T09:00:00.000000000",
          "2025-09-04T10:00:00.000000000",
          "2025-09-04T11:00:00.000000000",
          "2025-09-04T12:00:00.000000000",
          "2025-09-04T13:00:00.000000000",
          "2025-09-04T14:00:00.000000000",
          "2025-09-04T15:00:00.000000000",
          "2025-09-04T16:00:00.000000000",
          "2025-09-04T17:00:00.000000000",
          "2025-09-04T18:00:00.000000000",
          "2025-09-04T19:00:00.000000000",
          "2025-09-04T20:00:00.000000000",
          "2025-09-04T21:00:00.000000000",
          "2025-09-04T22:00:00.000000000",
          "2025-09-04T23:00:00.000000000",
          "2025-09-05T00:00:00.000000000",
          "2025-09-05T01:00:00.000000000",
          "2025-09-05T02:00:00.000000000",
          "2025-09-05T03:00:00.000000000",
          "2025-09-05T04:00:00.000000000",
          "2025-09-05T05:00:00.000000000",
          "2025-09-05T06:00:00.000000000",
          "2025-09-05T07:00:00.000000000",
          "2025-09-05T08:00:00.000000000",
          "2025-09-05T09:00:00.000000000"
         ],
         "xaxis": "x2",
         "y": {
          "bdata": "LznuGkpxbEGx+bgMDuRuQVFJneRCYWlBoYSZlt0iZUHVeOm5pz5iQd1B7MxViGFBnrryhZnia0GgoX+qGbppQaFns9B0+HBBste7rufdaEGeQUMyr/puQc3MzEd4pmBBrBxa3NFfW0Eu/yG10h1TQdAn8qLHyF5Brkfh2qp/WEF15bPKWyRXQTENwxdWllRBKej2zBb5X0HNO06hN9BbQf1l94r+bFtB06QUtOYsV0EXMIGXzrZeQbevA9HDg1pBCrq9NfRuZkGCc0b8kARiQS6ob7ljeVJBXmiu1cmCWEFVMCp5BNtlQfJBzwbb/2NBCwxZmPOqaEFUAIz33GxeQesENBPqrmNBRbbzP6byVUEHlE2JI0xSQTIge72Z8FVB5KWbbEF8S0E2sFWSvxJKQekmMbi3F0VBCmgi9J88RkHMC7DrEDBRQTV7oF/oFFNBw0fEkrBBUUGUgm7vA/pQQTC7J+8NmVtBxT2WOET7UEGr7LsUIC1TQfiImKKeu1FBxFp8OkDPbkHnjCj0Urx0QZAxd2NHpWhBDjLJGBOJWUEC8bp+X0RWQQwCK4f0TFVBceZXG4PcU0GpTZwkdtJZQZMYBBpzjlVBwhcmESgfU0HYnlnoT3dQQTvfT1GbU0RBq8/VtqxpREE0RuswrD9BQcxdS6zhrklBHLEWm1YrQkHCNAw3OS1GQZzhBhiCO0lBJ8KGh9kOSkHek4dlxrdVQaneGsJQl1JBe4MvLlZlYkGv00ifQBBWQajjMdcAKFRBSOF6UFPcXkHt0/FQ0bxLQeWzPGtO9kFBYwtB3qfqQkF16spXCvVMQSuk/DgWL0NBv30dLrtfWkGOeojOhplIQZm7lpjIvk9BE72M8oJ1SEETZtrOugFEQcQlx0li3kZBxm004Mi1P0EPKJsae6YzQbraipUbAkFB6/8c5iEnPEEpyxCXyXZFQcGopILMqUNBPfcevvN2PUHOUx3iCgVEQdV46YbReV1B48eYf/nZVUGUgm7bpn5fQWYUy7mLo1hB07zjkPfoTkFnJ4PjK1UiQQ==",
          "dtype": "f8"
         },
         "yaxis": "y2"
        },
        {
         "line": {
          "color": "#FF4500",
          "dash": "dash",
          "width": 2.5
         },
         "marker": {
          "size": 3
         },
         "mode": "lines+markers",
         "name": "PERP BYBIT",
         "type": "scatter",
         "x": [
          "2025-09-01T10:00:00.000000000",
          "2025-09-01T11:00:00.000000000",
          "2025-09-01T12:00:00.000000000",
          "2025-09-01T13:00:00.000000000",
          "2025-09-01T14:00:00.000000000",
          "2025-09-01T15:00:00.000000000",
          "2025-09-01T16:00:00.000000000",
          "2025-09-01T17:00:00.000000000",
          "2025-09-01T18:00:00.000000000",
          "2025-09-01T19:00:00.000000000",
          "2025-09-01T20:00:00.000000000",
          "2025-09-01T21:00:00.000000000",
          "2025-09-01T22:00:00.000000000",
          "2025-09-01T23:00:00.000000000",
          "2025-09-02T00:00:00.000000000",
          "2025-09-02T01:00:00.000000000",
          "2025-09-02T02:00:00.000000000",
          "2025-09-02T03:00:00.000000000",
          "2025-09-02T04:00:00.000000000",
          "2025-09-02T05:00:00.000000000",
          "2025-09-02T06:00:00.000000000",
          "2025-09-02T07:00:00.000000000",
          "2025-09-02T08:00:00.000000000",
          "2025-09-02T09:00:00.000000000",
          "2025-09-02T10:00:00.000000000",
          "2025-09-02T11:00:00.000000000",
          "2025-09-02T12:00:00.000000000",
          "2025-09-02T13:00:00.000000000",
          "2025-09-02T14:00:00.000000000",
          "2025-09-02T15:00:00.000000000",
          "2025-09-02T16:00:00.000000000",
          "2025-09-02T17:00:00.000000000",
          "2025-09-02T18:00:00.000000000",
          "2025-09-02T19:00:00.000000000",
          "2025-09-02T20:00:00.000000000",
          "2025-09-02T21:00:00.000000000",
          "2025-09-02T22:00:00.000000000",
          "2025-09-02T23:00:00.000000000",
          "2025-09-03T00:00:00.000000000",
          "2025-09-03T01:00:00.000000000",
          "2025-09-03T02:00:00.000000000",
          "2025-09-03T03:00:00.000000000",
          "2025-09-03T04:00:00.000000000",
          "2025-09-03T05:00:00.000000000",
          "2025-09-03T06:00:00.000000000",
          "2025-09-03T07:00:00.000000000",
          "2025-09-03T08:00:00.000000000",
          "2025-09-03T09:00:00.000000000",
          "2025-09-03T10:00:00.000000000",
          "2025-09-03T11:00:00.000000000",
          "2025-09-03T12:00:00.000000000",
          "2025-09-03T13:00:00.000000000",
          "2025-09-03T14:00:00.000000000",
          "2025-09-03T15:00:00.000000000",
          "2025-09-03T16:00:00.000000000",
          "2025-09-03T17:00:00.000000000",
          "2025-09-03T18:00:00.000000000",
          "2025-09-03T19:00:00.000000000",
          "2025-09-03T20:00:00.000000000",
          "2025-09-03T21:00:00.000000000",
          "2025-09-03T22:00:00.000000000",
          "2025-09-03T23:00:00.000000000",
          "2025-09-04T00:00:00.000000000",
          "2025-09-04T01:00:00.000000000",
          "2025-09-04T02:00:00.000000000",
          "2025-09-04T03:00:00.000000000",
          "2025-09-04T04:00:00.000000000",
          "2025-09-04T05:00:00.000000000",
          "2025-09-04T06:00:00.000000000",
          "2025-09-04T07:00:00.000000000",
          "2025-09-04T08:00:00.000000000",
          "2025-09-04T09:00:00.000000000",
          "2025-09-04T10:00:00.000000000",
          "2025-09-04T11:00:00.000000000",
          "2025-09-04T12:00:00.000000000",
          "2025-09-04T13:00:00.000000000",
          "2025-09-04T14:00:00.000000000",
          "2025-09-04T15:00:00.000000000",
          "2025-09-04T16:00:00.000000000",
          "2025-09-04T17:00:00.000000000",
          "2025-09-04T18:00:00.000000000",
          "2025-09-04T19:00:00.000000000",
          "2025-09-04T20:00:00.000000000",
          "2025-09-04T21:00:00.000000000",
          "2025-09-04T22:00:00.000000000",
          "2025-09-04T23:00:00.000000000",
          "2025-09-05T00:00:00.000000000",
          "2025-09-05T01:00:00.000000000",
          "2025-09-05T02:00:00.000000000",
          "2025-09-05T03:00:00.000000000",
          "2025-09-05T04:00:00.000000000",
          "2025-09-05T05:00:00.000000000",
          "2025-09-05T06:00:00.000000000",
          "2025-09-05T07:00:00.000000000",
          "2025-09-05T08:00:00.000000000",
          "2025-09-05T09:00:00.000000000"
         ],
         "xaxis": "x",
         "y": {
          "bdata": "RpkNMsnIqT+IRncQO1OoP2NFDaZh+Kg/OShhpu1fqT9BmrFoOjupP3goCvSJPKk/b4EExY8xpz8X2c73U+OlP4y+gjRj0aQ/Xi7iOzHrpT+IaHQHsTOlP8+9h0uOO6U/XkvIBz2bpT+YLy/APjqlPxb2tMNfk6U/z6Chf4KLpT+UE+0qpPykP5yiI7n8h6Q/5KCEmbZ/pT+hoX+CixWlPxYTm49rQ6U/OKEQAYdQpT+6FFeVfVekPwrcupunOqQ/aoe/JmvUoz8awFsgQfGjPwVR9wFIbaI/cm2oGOdvoj83/dmPFJGhPz81XrpJDKI/SIrIsIo3oj9Q3zKny2KiP4uJzce1oaI/38Mlx53SoT+Dbi9pjNahP4/f2/RnP6I/5/up8dJNoj8mGTkLe9qhP9uK/WX35KE/kxgEVg4toj/wbfqzHymiP341Bwjm6KE/ehnFckuroT/K4Ch5dY6hP71vfO2ZJaE/3/3xXrUyoT/Jjo1AvK6fP+ZXc4Bgjp4/sDic+dUcoD/8xteeWRKgP9I6qpog6p4/IQIOoUrNnj8mAWpq2VqfP9F0djI4Sp4/l5APejarnj+CrRIsDmeeP5uPa0PFOJ8/iuWWVkPinj9cctwpHayfP95xio7k8p8/cclxp3Swnj/BVgkWhzOfP7TlXIqryp4/R4/f2/Rnnz9YrUz4pX6eP7RZ9bnaip0/T+lg/Z/DnD8DCYofY+6aPwdCsoAJ3Jo/QmDl0CLbmT+zQSYZOQubP6bQeY1dopo/+5Y5XRYTmz//CS5W1GCaP1tCPujZrJo//wkuVtRgmj9rYKsEi8OZP2tgqwSLw5k/zJcXYB+dmj+rz9VW7C+bPz7t8NdkjZo/wOyePCzUmj/EJced0sGaP8he7/54r5o/6uxkcJS8mj+Ss7CnHf6aPyCYo8fvbZo/NXugFRiymj/uJY3ROqqaPwMJih9j7po/iUFg5dAimz/izK/mAMGcPy2VtyOcFpw/Qj7o2az6nD8lI2dhTzucP+IGfH4YIZw/",
          "dtype": "f8"
         },
         "yaxis": "y"
        },
        {
         "line": {
          "color": "#FF4500",
          "dash": "dashdot",
          "width": 2
         },
         "mode": "lines",
         "name": "PERP $BYBIT",
         "showlegend": false,
         "type": "scatter",
         "x": [
          "2025-09-01T10:00:00.000000000",
          "2025-09-01T11:00:00.000000000",
          "2025-09-01T12:00:00.000000000",
          "2025-09-01T13:00:00.000000000",
          "2025-09-01T14:00:00.000000000",
          "2025-09-01T15:00:00.000000000",
          "2025-09-01T16:00:00.000000000",
          "2025-09-01T17:00:00.000000000",
          "2025-09-01T18:00:00.000000000",
          "2025-09-01T19:00:00.000000000",
          "2025-09-01T20:00:00.000000000",
          "2025-09-01T21:00:00.000000000",
          "2025-09-01T22:00:00.000000000",
          "2025-09-01T23:00:00.000000000",
          "2025-09-02T00:00:00.000000000",
          "2025-09-02T01:00:00.000000000",
          "2025-09-02T02:00:00.000000000",
          "2025-09-02T03:00:00.000000000",
          "2025-09-02T04:00:00.000000000",
          "2025-09-02T05:00:00.000000000",
          "2025-09-02T06:00:00.000000000",
          "2025-09-02T07:00:00.000000000",
          "2025-09-02T08:00:00.000000000",
          "2025-09-02T09:00:00.000000000",
          "2025-09-02T10:00:00.000000000",
          "2025-09-02T11:00:00.000000000",
          "2025-09-02T12:00:00.000000000",
          "2025-09-02T13:00:00.000000000",
          "2025-09-02T14:00:00.000000000",
          "2025-09-02T15:00:00.000000000",
          "2025-09-02T16:00:00.000000000",
          "2025-09-02T17:00:00.000000000",
          "2025-09-02T18:00:00.000000000",
          "2025-09-02T19:00:00.000000000",
          "2025-09-02T20:00:00.000000000",
          "2025-09-02T21:00:00.000000000",
          "2025-09-02T22:00:00.000000000",
          "2025-09-02T23:00:00.000000000",
          "2025-09-03T00:00:00.000000000",
          "2025-09-03T01:00:00.000000000",
          "2025-09-03T02:00:00.000000000",
          "2025-09-03T03:00:00.000000000",
          "2025-09-03T04:00:00.000000000",
          "2025-09-03T05:00:00.000000000",
          "2025-09-03T06:00:00.000000000",
          "2025-09-03T07:00:00.000000000",
          "2025-09-03T08:00:00.000000000",
          "2025-09-03T09:00:00.000000000",
          "2025-09-03T10:00:00.000000000",
          "2025-09-03T11:00:00.000000000",
          "2025-09-03T12:00:00.000000000",
          "2025-09-03T13:00:00.000000000",
          "2025-09-03T14:00:00.000000000",
          "2025-09-03T15:00:00.000000000",
          "2025-09-03T16:00:00.000000000",
          "2025-09-03T17:00:00.000000000",
          "2025-09-03T18:00:00.000000000",
          "2025-09-03T19:00:00.000000000",
          "2025-09-03T20:00:00.000000000",
          "2025-09-03T21:00:00.000000000",
          "2025-09-03T22:00:00.000000000",
          "2025-09-03T23:00:00.000000000",
          "2025-09-04T00:00:00.000000000",
          "2025-09-04T01:00:00.000000000",
          "2025-09-04T02:00:00.000000000",
          "2025-09-04T03:00:00.000000000",
          "2025-09-04T04:00:00.000000000",
          "2025-09-04T05:00:00.000000000",
          "2025-09-04T06:00:00.000000000",
          "2025-09-04T07:00:00.000000000",
          "2025-09-04T08:00:00.000000000",
          "2025-09-04T09:00:00.000000000",
          "2025-09-04T10:00:00.000000000",
          "2025-09-04T11:00:00.000000000",
          "2025-09-04T12:00:00.000000000",
          "2025-09-04T13:00:00.000000000",
          "2025-09-04T14:00:00.000000000",
          "2025-09-04T15:00:00.000000000",
          "2025-09-04T16:00:00.000000000",
          "2025-09-04T17:00:00.000000000",
          "2025-09-04T18:00:00.000000000",
          "2025-09-04T19:00:00.000000000",
          "2025-09-04T20:00:00.000000000",
          "2025-09-04T21:00:00.000000000",
          "2025-09-04T22:00:00.000000000",
          "2025-09-04T23:00:00.000000000",
          "2025-09-05T00:00:00.000000000",
          "2025-09-05T01:00:00.000000000",
          "2025-09-05T02:00:00.000000000",
          "2025-09-05T03:00:00.000000000",
          "2025-09-05T04:00:00.000000000",
          "2025-09-05T05:00:00.000000000",
          "2025-09-05T06:00:00.000000000",
          "2025-09-05T07:00:00.000000000",
          "2025-09-05T08:00:00.000000000",
          "2025-09-05T09:00:00.000000000"
         ],
         "xaxis": "x2",
         "y": {
          "bdata": "bAn5IDRSJkEOnDPSaIk7QSPb+f4aJy1B9dvXAdvwJUFXyjLEeccmQUp7g0/ESCZBYhBYOcukMkF7FK4HMd0rQfvL7gnJgitB+FPjJY3gJUFbQj4oNkwdQSh+jPmNQxJB1XjppmMJJUF0ApqICUsfQeU/pF/xtRRBQKTfvl6HCkGR7Xw/uaISQbgehetWdAtBlrIMMYv4EkHzsFBrTZcIQXbgnNEn0RFBF9nOd0NcCUF1JJe/hmgfQRU/xlzSpB9BtTf4AsnYEEGoxks3SugUQVd9rhYLLCdB3nGKDvmzHUFdbcVeaYYvQaNwPSq2LCRBXCBBcdfiHEHEsS5usEEVQQpGJfUUxAhBI0p7gxWODUGG61G4hLgFQWnecYq8OglB61G4nmrHCUEdOGdEuSIGQUJg5RB+zhBBrUfhevoCC0F5eqUstVD/QKfoSC7KnAJBqYJRSfXBE0HHuriNqiQCQZAPerbDGAZBXLG/bMyYBUEmwoanRHcuQdjw9MqBFTtBrfpcTTOpMEEU0ESYtTscQdnO9xOJHhZBpSxDHDsvFkFjEFg57mAQQT/G3LVZlRpBku18/y5AE0HIKToSmm4RQYMvTCabkQtBfh04Z8Rq/0BzRpT2KaMMQWZmZmZ21AFBL90khjgHAEEeFmpNlbvzQGwJ+aCIlPdA78nDQl5L/0BZF7fRmqv6QPLSTaII0xRBsi5u46WpF0F3vp86NaY2QRPyQW8QVyZBkML1aMnnGEGu2F9Wi/khQblrCfnI+QpB3Pl+apYqC0EYldQJrPoRQe58P7UWCwtBXynLEGej+0AqGJXUXKccQQG8BRJCwAlBexSux2NXCkE1XrpJyDUKQQU0ETZiFwNBtMh2vu8pAUFRa5p3skwLQQtGJXXU8P9A4ZwRpdUr+0C/DpwzbHwGQQ8LtSagSwRBgQTFj4ya8kBCz2bVy6D/QJZDi2wjFvZASOF61N2OI0EbL90kDAwVQRDpt49SUCBBNV66yUG2EkFz1xLykwIMQVd9rrZ2yNtA",
          "dtype": "f8"
         },
         "yaxis": "y2"
        }
       ],
       "layout": {
        "annotations": [
         {
          "font": {
           "size": 16
          },
          "showarrow": false,
          "text": "LINEA: Price Comparison (SPOT vs PERP)",
          "x": 0.5,
          "xanchor": "center",
          "xref": "paper",
          "y": 1,
          "yanchor": "bottom",
          "yref": "paper"
         },
         {
          "font": {
           "size": 16
          },
          "showarrow": false,
          "text": "LINEA: Dollar Volume Comparison (SPOT vs PERP)",
          "x": 0.5,
          "xanchor": "center",
          "xref": "paper",
          "y": 0.44,
          "yanchor": "bottom",
          "yref": "paper"
         }
        ],
        "height": 700,
        "hovermode": "x unified",
        "showlegend": true,
        "template": {
         "data": {
          "bar": [
           {
            "error_x": {
             "color": "#2a3f5f"
            },
            "error_y": {
             "color": "#2a3f5f"
            },
            "marker": {
             "line": {
              "color": "#E5ECF6",
              "width": 0.5
             },
             "pattern": {
              "fillmode": "overlay",
              "size": 10,
              "solidity": 0.2
             }
            },
            "type": "bar"
           }
          ],
          "barpolar": [
           {
            "marker": {
             "line": {
              "color": "#E5ECF6",
              "width": 0.5
             },
             "pattern": {
              "fillmode": "overlay",
              "size": 10,
              "solidity": 0.2
             }
            },
            "type": "barpolar"
           }
          ],
          "carpet": [
           {
            "aaxis": {
             "endlinecolor": "#2a3f5f",
             "gridcolor": "white",
             "linecolor": "white",
             "minorgridcolor": "white",
             "startlinecolor": "#2a3f5f"
            },
            "baxis": {
             "endlinecolor": "#2a3f5f",
             "gridcolor": "white",
             "linecolor": "white",
             "minorgridcolor": "white",
             "startlinecolor": "#2a3f5f"
            },
            "type": "carpet"
           }
          ],
          "choropleth": [
           {
            "colorbar": {
             "outlinewidth": 0,
             "ticks": ""
            },
            "type": "choropleth"
           }
          ],
          "contour": [
           {
            "colorbar": {
             "outlinewidth": 0,
             "ticks": ""
            },
            "colorscale": [
             [
              0,
              "#0d0887"
             ],
             [
              0.1111111111111111,
              "#46039f"
             ],
             [
              0.2222222222222222,
              "#7201a8"
             ],
             [
              0.3333333333333333,
              "#9c179e"
             ],
             [
              0.4444444444444444,
              "#bd3786"
             ],
             [
              0.5555555555555556,
              "#d8576b"
             ],
             [
              0.6666666666666666,
              "#ed7953"
             ],
             [
              0.7777777777777778,
              "#fb9f3a"
             ],
             [
              0.8888888888888888,
              "#fdca26"
             ],
             [
              1,
              "#f0f921"
             ]
            ],
            "type": "contour"
           }
          ],
          "contourcarpet": [
           {
            "colorbar": {
             "outlinewidth": 0,
             "ticks": ""
            },
            "type": "contourcarpet"
           }
          ],
          "heatmap": [
           {
            "colorbar": {
             "outlinewidth": 0,
             "ticks": ""
            },
            "colorscale": [
             [
              0,
              "#0d0887"
             ],
             [
              0.1111111111111111,
              "#46039f"
             ],
             [
              0.2222222222222222,
              "#7201a8"
             ],
             [
              0.3333333333333333,
              "#9c179e"
             ],
             [
              0.4444444444444444,
              "#bd3786"
             ],
             [
              0.5555555555555556,
              "#d8576b"
             ],
             [
              0.6666666666666666,
              "#ed7953"
             ],
             [
              0.7777777777777778,
              "#fb9f3a"
             ],
             [
              0.8888888888888888,
              "#fdca26"
             ],
             [
              1,
              "#f0f921"
             ]
            ],
            "type": "heatmap"
           }
          ],
          "histogram": [
           {
            "marker": {
             "pattern": {
              "fillmode": "overlay",
              "size": 10,
              "solidity": 0.2
             }
            },
            "type": "histogram"
           }
          ],
          "histogram2d": [
           {
            "colorbar": {
             "outlinewidth": 0,
             "ticks": ""
            },
            "colorscale": [
             [
              0,
              "#0d0887"
             ],
             [
              0.1111111111111111,
              "#46039f"
             ],
             [
              0.2222222222222222,
              "#7201a8"
             ],
             [
              0.3333333333333333,
              "#9c179e"
             ],
             [
              0.4444444444444444,
              "#bd3786"
             ],
             [
              0.5555555555555556,
              "#d8576b"
             ],
             [
              0.6666666666666666,
              "#ed7953"
             ],
             [
              0.7777777777777778,
              "#fb9f3a"
             ],
             [
              0.8888888888888888,
              "#fdca26"
             ],
             [
              1,
              "#f0f921"
             ]
            ],
            "type": "histogram2d"
           }
          ],
          "histogram2dcontour": [
           {
            "colorbar": {
             "outlinewidth": 0,
             "ticks": ""
            },
            "colorscale": [
             [
              0,
              "#0d0887"
             ],
             [
              0.1111111111111111,
              "#46039f"
             ],
             [
              0.2222222222222222,
              "#7201a8"
             ],
             [
              0.3333333333333333,
              "#9c179e"
             ],
             [
              0.4444444444444444,
              "#bd3786"
             ],
             [
              0.5555555555555556,
              "#d8576b"
             ],
             [
              0.6666666666666666,
              "#ed7953"
             ],
             [
              0.7777777777777778,
              "#fb9f3a"
             ],
             [
              0.8888888888888888,
              "#fdca26"
             ],
             [
              1,
              "#f0f921"
             ]
            ],
            "type": "histogram2dcontour"
           }
          ],
          "mesh3d": [
           {
            "colorbar": {
             "outlinewidth": 0,
             "ticks": ""
            },
            "type": "mesh3d"
           }
          ],
          "parcoords": [
           {
            "line": {
             "colorbar": {
              "outlinewidth": 0,
              "ticks": ""
             }
            },
            "type": "parcoords"
           }
          ],
          "pie": [
           {
            "automargin": true,
            "type": "pie"
           }
          ],
          "scatter": [
           {
            "fillpattern": {
             "fillmode": "overlay",
             "size": 10,
             "solidity": 0.2
            },
            "type": "scatter"
           }
          ],
          "scatter3d": [
           {
            "line": {
             "colorbar": {
              "outlinewidth": 0,
              "ticks": ""
             }
            },
            "marker": {
             "colorbar": {
              "outlinewidth": 0,
              "ticks": ""
             }
            },
            "type": "scatter3d"
           }
          ],
          "scattercarpet": [
           {
            "marker": {
             "colorbar": {
              "outlinewidth": 0,
              "ticks": ""
             }
            },
            "type": "scattercarpet"
           }
          ],
          "scattergeo": [
           {
            "marker": {
             "colorbar": {
              "outlinewidth": 0,
              "ticks": ""
             }
            },
            "type": "scattergeo"
           }
          ],
          "scattergl": [
           {
            "marker": {
             "colorbar": {
              "outlinewidth": 0,
              "ticks": ""
             }
            },
            "type": "scattergl"
           }
          ],
          "scattermap": [
           {
            "marker": {
             "colorbar": {
              "outlinewidth": 0,
              "ticks": ""
             }
            },
            "type": "scattermap"
           }
          ],
          "scattermapbox": [
           {
            "marker": {
             "colorbar": {
              "outlinewidth": 0,
              "ticks": ""
             }
            },
            "type": "scattermapbox"
           }
          ],
          "scatterpolar": [
           {
            "marker": {
             "colorbar": {
              "outlinewidth": 0,
              "ticks": ""
             }
            },
            "type": "scatterpolar"
           }
          ],
          "scatterpolargl": [
           {
            "marker": {
             "colorbar": {
              "outlinewidth": 0,
              "ticks": ""
             }
            },
            "type": "scatterpolargl"
           }
          ],
          "scatterternary": [
           {
            "marker": {
             "colorbar": {
              "outlinewidth": 0,
              "ticks": ""
             }
            },
            "type": "scatterternary"
           }
          ],
          "surface": [
           {
            "colorbar": {
             "outlinewidth": 0,
             "ticks": ""
            },
            "colorscale": [
             [
              0,
              "#0d0887"
             ],
             [
              0.1111111111111111,
              "#46039f"
             ],
             [
              0.2222222222222222,
              "#7201a8"
             ],
             [
              0.3333333333333333,
              "#9c179e"
             ],
             [
              0.4444444444444444,
              "#bd3786"
             ],
             [
              0.5555555555555556,
              "#d8576b"
             ],
             [
              0.6666666666666666,
              "#ed7953"
             ],
             [
              0.7777777777777778,
              "#fb9f3a"
             ],
             [
              0.8888888888888888,
              "#fdca26"
             ],
             [
              1,
              "#f0f921"
             ]
            ],
            "type": "surface"
           }
          ],
          "table": [
           {
            "cells": {
             "fill": {
              "color": "#EBF0F8"
             },
             "line": {
              "color": "white"
             }
            },
            "header": {
             "fill": {
              "color": "#C8D4E3"
             },
             "line": {
              "color": "white"
             }
            },
            "type": "table"
           }
          ]
         },
         "layout": {
          "annotationdefaults": {
           "arrowcolor": "#2a3f5f",
           "arrowhead": 0,
           "arrowwidth": 1
          },
          "autotypenumbers": "strict",
          "coloraxis": {
           "colorbar": {
            "outlinewidth": 0,
            "ticks": ""
           }
          },
          "colorscale": {
           "diverging": [
            [
             0,
             "#8e0152"
            ],
            [
             0.1,
             "#c51b7d"
            ],
            [
             0.2,
             "#de77ae"
            ],
            [
             0.3,
             "#f1b6da"
            ],
            [
             0.4,
             "#fde0ef"
            ],
            [
             0.5,
             "#f7f7f7"
            ],
            [
             0.6,
             "#e6f5d0"
            ],
            [
             0.7,
             "#b8e186"
            ],
            [
             0.8,
             "#7fbc41"
            ],
            [
             0.9,
             "#4d9221"
            ],
            [
             1,
             "#276419"
            ]
           ],
           "sequential": [
            [
             0,
             "#0d0887"
            ],
            [
             0.1111111111111111,
             "#46039f"
            ],
            [
             0.2222222222222222,
             "#7201a8"
            ],
            [
             0.3333333333333333,
             "#9c179e"
            ],
            [
             0.4444444444444444,
             "#bd3786"
            ],
            [
             0.5555555555555556,
             "#d8576b"
            ],
            [
             0.6666666666666666,
             "#ed7953"
            ],
            [
             0.7777777777777778,
             "#fb9f3a"
            ],
            [
             0.8888888888888888,
             "#fdca26"
            ],
            [
             1,
             "#f0f921"
            ]
           ],
           "sequentialminus": [
            [
             0,
             "#0d0887"
            ],
            [
             0.1111111111111111,
             "#46039f"
            ],
            [
             0.2222222222222222,
             "#7201a8"
            ],
            [
             0.3333333333333333,
             "#9c179e"
            ],
            [
             0.4444444444444444,
             "#bd3786"
            ],
            [
             0.5555555555555556,
             "#d8576b"
            ],
            [
             0.6666666666666666,
             "#ed7953"
            ],
            [
             0.7777777777777778,
             "#fb9f3a"
            ],
            [
             0.8888888888888888,
             "#fdca26"
            ],
            [
             1,
             "#f0f921"
            ]
           ]
          },
          "colorway": [
           "#636efa",
           "#EF553B",
           "#00cc96",
           "#ab63fa",
           "#FFA15A",
           "#19d3f3",
           "#FF6692",
           "#B6E880",
           "#FF97FF",
           "#FECB52"
          ],
          "font": {
           "color": "#2a3f5f"
          },
          "geo": {
           "bgcolor": "white",
           "lakecolor": "white",
           "landcolor": "#E5ECF6",
           "showlakes": true,
           "showland": true,
           "subunitcolor": "white"
          },
          "hoverlabel": {
           "align": "left"
          },
          "hovermode": "closest",
          "mapbox": {
           "style": "light"
          },
          "paper_bgcolor": "white",
          "plot_bgcolor": "#E5ECF6",
          "polar": {
           "angularaxis": {
            "gridcolor": "white",
            "linecolor": "white",
            "ticks": ""
           },
           "bgcolor": "#E5ECF6",
           "radialaxis": {
            "gridcolor": "white",
            "linecolor": "white",
            "ticks": ""
           }
          },
          "scene": {
           "xaxis": {
            "backgroundcolor": "#E5ECF6",
            "gridcolor": "white",
            "gridwidth": 2,
            "linecolor": "white",
            "showbackground": true,
            "ticks": "",
            "zerolinecolor": "white"
           },
           "yaxis": {
            "backgroundcolor": "#E5ECF6",
            "gridcolor": "white",
            "gridwidth": 2,
            "linecolor": "white",
            "showbackground": true,
            "ticks": "",
            "zerolinecolor": "white"
           },
           "zaxis": {
            "backgroundcolor": "#E5ECF6",
            "gridcolor": "white",
            "gridwidth": 2,
            "linecolor": "white",
            "showbackground": true,
            "ticks": "",
            "zerolinecolor": "white"
           }
          },
          "shapedefaults": {
           "line": {
            "color": "#2a3f5f"
           }
          },
          "ternary": {
           "aaxis": {
            "gridcolor": "white",
            "linecolor": "white",
            "ticks": ""
           },
           "baxis": {
            "gridcolor": "white",
            "linecolor": "white",
            "ticks": ""
           },
           "bgcolor": "#E5ECF6",
           "caxis": {
            "gridcolor": "white",
            "linecolor": "white",
            "ticks": ""
           }
          },
          "title": {
           "x": 0.05
          },
          "xaxis": {
           "automargin": true,
           "gridcolor": "white",
           "linecolor": "white",
           "ticks": "",
           "title": {
            "standoff": 15
           },
           "zerolinecolor": "white",
           "zerolinewidth": 2
          },
          "yaxis": {
           "automargin": true,
           "gridcolor": "white",
           "linecolor": "white",
           "ticks": "",
           "title": {
            "standoff": 15
           },
           "zerolinecolor": "white",
           "zerolinewidth": 2
          }
         }
        },
        "title": {
         "text": "LINEA SPOT vs PERP Analysis"
        },
        "xaxis": {
         "anchor": "y",
         "domain": [
          0,
          1
         ]
        },
        "xaxis2": {
         "anchor": "y2",
         "domain": [
          0,
          1
         ],
         "title": {
          "text": "Time"
         }
        },
        "yaxis": {
         "anchor": "x",
         "domain": [
          0.56,
          1
         ],
         "title": {
          "text": "Price (USD)"
         }
        },
        "yaxis2": {
         "anchor": "x2",
         "domain": [
          0,
          0.44
         ],
         "title": {
          "text": "Dollar Volume (USD)"
         }
        }
       }
      }
     },
     "metadata": {},
     "output_type": "display_data"
    },
    {
     "name": "stdout",
     "output_type": "stream",
     "text": [
      "\n",
      "📊 LINEA Summary:\n",
      "PERP:\n",
      "  binance: $0.0273\n",
      "  bybit: $0.0275\n",
      "\n",
      "📊 Data Summary:\n",
      "  PERP binance: 98 candles from 2025-09-01 08:00:00 to 2025-09-05 09:00:00\n",
      "  PERP bybit: 96 candles from 2025-09-01 10:00:00 to 2025-09-05 09:00:00\n",
      "\n",
      "✅ Complete LINEA historical analysis finished!\n"
     ]
    }
   ],
   "source": [
    "# Simple LINEA Analysis with Date Parameters\n",
    "\n",
    "# Configuration\n",
    "TICKER_BASE = \"LINEA\"\n",
    "TIMEFRAME = \"1h\"\n",
    "LIMIT = 1000  # Increased limit to get more historical data\n",
    "\n",
    "# Date parameters - Full timeline since LINEA launch\n",
    "START_TIME = \"2025-08-22 00:00:00\"  #  launch date\n",
    "END_TIME = \"2025-09-05 23:59:59\"    # Current date\n",
    "\n",
    "print(f\"🎯 Complete {TICKER_BASE} Historical Analysis\")\n",
    "print(f\"📊 Timeframe: {TIMEFRAME}, Limit: {LIMIT}\")\n",
    "print(f\"🏪 Exchanges: {exchanges_list}\")\n",
    "print(f\"📅 Full Timeline: {START_TIME} to {END_TIME}\")\n",
    "print(f\"⏰ Analysis Period: ~{(datetime.strptime(END_TIME, '%Y-%m-%d %H:%M:%S') - datetime.strptime(START_TIME, '%Y-%m-%d %H:%M:%S')).days} days\")\n",
    "print(\"=\"*70)\n",
    "\n",
    "# Fetch SPOT data\n",
    "print(\"\\n💰 Fetching COMPLETE SPOT data timeline...\")\n",
    "LINEA_spot = fetch_LINEA_data(\"LINEA/USDT\", exchanges_list, TIMEFRAME, LIMIT, START_TIME, END_TIME)\n",
    "\n",
    "# Fetch PERP data\n",
    "print(\"\\n🔄 Fetching COMPLETE PERP data timeline...\")\n",
    "LINEA_perp = {}\n",
    "for exchange_name in exchanges_list:\n",
    "    perp_ticker = get_LINEA_perp_ticker(exchange_name)\n",
    "    perp_data = fetch_LINEA_data(perp_ticker, [exchange_name], TIMEFRAME, LIMIT, START_TIME, END_TIME)\n",
    "    if perp_data:\n",
    "        LINEA_perp.update(perp_data)\n",
    "\n",
    "# Create the plot\n",
    "if LINEA_spot or LINEA_perp:\n",
    "    print(f\"\\n📈 Creating complete {TICKER_BASE} historical visualization...\")\n",
    "    plot_LINEA_simple(LINEA_spot, LINEA_perp, TICKER_BASE)\n",
    "    \n",
    "    # Print data summary\n",
    "    print(f\"\\n📊 Data Summary:\")\n",
    "    if LINEA_spot:\n",
    "        for exchange, df in LINEA_spot.items():\n",
    "            print(f\"  SPOT {exchange}: {len(df)} candles from {df.index[0]} to {df.index[-1]}\")\n",
    "    if LINEA_perp:\n",
    "        for exchange, df in LINEA_perp.items():\n",
    "            print(f\"  PERP {exchange}: {len(df)} candles from {df.index[0]} to {df.index[-1]}\")\n",
    "else:\n",
    "    print(f\"❌ No {TICKER_BASE} data available\")\n",
    "\n",
    "print(f\"\\n✅ Complete {TICKER_BASE} historical analysis finished!\")"
   ]
  }
 ],
 "metadata": {
  "kernelspec": {
   "display_name": ".venv",
   "language": "python",
   "name": "python3"
  },
  "language_info": {
   "codemirror_mode": {
    "name": "ipython",
    "version": 3
   },
   "file_extension": ".py",
   "mimetype": "text/x-python",
   "name": "python",
   "nbconvert_exporter": "python",
   "pygments_lexer": "ipython3",
   "version": "3.12.4"
  }
 },
 "nbformat": 4,
 "nbformat_minor": 5
}
